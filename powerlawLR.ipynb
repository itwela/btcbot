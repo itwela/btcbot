{
 "cells": [
  {
   "cell_type": "markdown",
   "metadata": {},
   "source": [
    "# Imports"
   ]
  },
  {
   "cell_type": "code",
   "execution_count": 203,
   "metadata": {},
   "outputs": [],
   "source": [
    "import math\n",
    "from datetime import datetime\n",
    "import requests\n",
    "from pydataset import data\n",
    "import csv\n"
   ]
  },
  {
   "cell_type": "markdown",
   "metadata": {},
   "source": [
    "# Get Bitcoin Information - Glassnode"
   ]
  },
  {
   "cell_type": "code",
   "execution_count": 204,
   "metadata": {},
   "outputs": [],
   "source": [
    "cookie = \"_gcl_au=1.1.844624256.1712637157; _gid=GA1.2.506799906.1712637158; crisp-client%2Fsession%2F92942f99-f508-4f5f-8509-fb99ef741acc=session_87be6cbb-354b-4f36-a178-c5a30d8eba8c; _hjSessionUser_1425107=eyJpZCI6ImE2NTZmNTc0LTg0M2ItNWY5MC05OGM4LWM2MjIyMGIwNDFlNiIsImNyZWF0ZWQiOjE3MTI2MzcxNTkzMTAsImV4aXN0aW5nIjp0cnVlfQ==; _hjSession_1425107=eyJpZCI6ImE0YzA1YTBjLWJlN2ItNGY4NC1hZGEzLTJiOWExNDgwMGQ3OSIsImMiOjE3MTI2MzkyMDM0NzUsInMiOjEsInIiOjEsInNiIjowLCJzciI6MCwic2UiOjAsImZzIjowLCJzcCI6MH0=; _ga_M9YVRZCN8G=GS1.1.1712639785.2.1.1712641983.0.0.0; _ga_MT5MWT6847=GS1.1.1712639785.2.1.1712641983.53.0.0; _ga=GA1.2.1384897898.1712637158; _s=MTcxMjY0MTk4OHx2OHNrNXlqSVl4aHNLd19XWEZDbTZibXhrMzl4X2d2Q3o2ZkVFeDF4Qk4zZTIxbWlUNFRBZXhjNHNGSHV0T3c9fHC2pJx8ngM9UsqANT6rRBS29WRn5g55ZpVIQSel5oDR\"\n",
    "\n",
    "# 🔵🔵🔵🔵🔵 adress\n",
    "# add dates from address request into its own array\n",
    "total_days_add = []\n",
    "# add addresses from address request into its own array\n",
    "total_add = []\n",
    "# add all data from address request into its own dictionary for formatting later\n",
    "gdAddData = {}\n",
    "# url for address request\n",
    "addressesUrl = \"https://api.glassnode.com/v1/metrics/addresses/count?a=BTC&c=native&i=24h&referer=charts\"\n",
    "# headers for address request\n",
    "addressHeader = {\n",
    "    \"User-Agent\": \"Mozilla/5.0 (Windows NT 10.0; Win64; x64) AppleWebKit/537.36 (KHTML, like Gecko) Chrome/121.0.0.0 Safari/537.36 OPR/107.0.0.0\",\n",
    "    \"Accept\": \"text/html,application/xhtml+xml,application/xml;q=0.9,image/avif,image/webp,image/apng,*/*;q=0.8,application/signed-exchange;v=b3;q=0.7\",\n",
    "    \"Accept-Encoding\": \"gzip, deflate, br\",\n",
    "    \"Accept-Language\": \"en-US,en;q=0.9\",\n",
    "    \"Referer\": \"https://charts.example.com\",  # Update this with the actual referer value\n",
    "    \"Cookie\": cookie\n",
    "}\n",
    "# the response\n",
    "addressResponse = requests.get(addressesUrl, headers=addressHeader)\n",
    "# if the response was successful\n",
    "if addressResponse.status_code == 200:\n",
    "    a_data = addressResponse.json()\n",
    "    gdAddData = a_data\n",
    "    for i in range(len(a_data)):\n",
    "      a_days = a_data[i]['t']\n",
    "      a_value = a_data[i]['v']\n",
    "      if a_days is not None:\n",
    "          appenddays = total_days_add.append(a_days)\n",
    "          appendvalue = total_add.append(a_value)\n",
    "# error handling\n",
    "else:\n",
    "    print(\"Request failed with status code:\", addressResponse.status_code)\n",
    "# ----------------------------- 🔵🔵🔵🔵🔵\n",
    "\n",
    "# 🔴🔴🔴🔴🔴 prices\n",
    "# add dates from prices request into its own array\n",
    "total_days_prices = []\n",
    "# add prices from prices request into its own array\n",
    "total_prices = []\n",
    "# add all data from prices request into its own dictionary for formatting later\n",
    "gdPricedata = {}\n",
    "# url for prices request\n",
    "pricesUrl = \"https://api.glassnode.com/v1/metrics/market/price_usd_close?a=BTC&i=24h&referer=charts\"\n",
    "# headers for prices request\n",
    "pricesHeader = {\n",
    "    \"User-Agent\": \"Mozilla/5.0 (Windows NT 10.0; Win64; x64) AppleWebKit/537.36 (KHTML, like Gecko) Chrome/121.0.0.0 Safari/537.36 OPR/107.0.0.0\",\n",
    "    \"Accept\": \"text/html,application/xhtml+xml,application/xml;q=0.9,image/avif,image/webp,image/apng,*/*;q=0.8,application/signed-exchange;v=b3;q=0.7\",\n",
    "    \"Accept-Encoding\": \"gzip, deflate, br\",\n",
    "    \"Accept-Language\": \"en-US,en;q=0.9\",\n",
    "    \"Referer\": \"https://charts.example.com\",  # Update this with the actual referer value\n",
    "    \"Cookie\": cookie\n",
    "}\n",
    "# the response\n",
    "pricesResponse = requests.get(pricesUrl, headers=pricesHeader)\n",
    "# if the response was successful\n",
    "if pricesResponse.status_code == 200:\n",
    "    p_data = pricesResponse.json()\n",
    "    gdPricedata = p_data\n",
    "    for i in range(len(p_data)):\n",
    "      p_days = p_data[i]['t']\n",
    "      p_prices = p_data[i]['v']\n",
    "      if p_days is not None:\n",
    "          appenddays = total_days_prices.append(p_days)\n",
    "          appendprices = total_prices.append(p_prices)\n",
    "# error handling\n",
    "else:\n",
    "    print(\"Request failed with status code:\", pricesResponse.status_code)\n",
    "# ----------------------------- 🔴🔴🔴🔴🔴\n",
    "\n",
    "# 🟢🟢🟢🟢🟢 hash rate mean \n",
    "# add dates from hash rate request into its own array\n",
    "total_days_hashRate = []\n",
    "# add hash rate from prices request into its own array\n",
    "total_hashRates= []\n",
    "# add all data from hash rate request into its own dictionary for formatting later\n",
    "gdHashRatedata = {}\n",
    "# url for hash rate request\n",
    "hashRateMeanUrl = \"https://api.glassnode.com/v1/metrics/mining/hash_rate_mean?a=BTC&c=native&i=24h&referer=charts\"\n",
    "# headers for hash rate request\n",
    "hashRateHeader = {\n",
    "    \"User-Agent\": \"Mozilla/5.0 (Windows NT 10.0; Win64; x64) AppleWebKit/537.36 (KHTML, like Gecko) Chrome/121.0.0.0 Safari/537.36 OPR/107.0.0.0\",\n",
    "    \"Accept\": \"text/html,application/xhtml+xml,application/xml;q=0.9,image/avif,image/webp,image/apng,*/*;q=0.8,application/signed-exchange;v=b3;q=0.7\",\n",
    "    \"Accept-Encoding\": \"gzip, deflate, br\",\n",
    "    \"Accept-Language\": \"en-US,en;q=0.9\",\n",
    "    \"Referer\": \"https://charts.example.com\",  # Update this with the actual referer value\n",
    "    \"Cookie\": cookie\n",
    "}\n",
    "# the response\n",
    "hashRateResponse = requests.get(hashRateMeanUrl, headers=hashRateHeader)\n",
    "# if the response was successful\n",
    "if hashRateResponse.status_code == 200:\n",
    "    hr_data = hashRateResponse.json()\n",
    "    gdHashRatedata = hr_data\n",
    "    for i in range(len(hr_data)):\n",
    "      hr_days = hr_data[i]['t']\n",
    "      hr_hrate = hr_data[i]['v']\n",
    "      if hr_days is not None:\n",
    "          appenddays = total_days_hashRate.append(hr_days)\n",
    "          appendprices = total_hashRates.append(hr_hrate)\n",
    "# error handling\n",
    "else:\n",
    "    print(\"Request failed with status code:\", hashRateResponse.status_code)\n",
    "# ----------------------------- 🟢🟢🟢🟢🟢\n",
    "\n",
    "\n",
    "# dictionary to format response data\n",
    "formatteddict = {}\n",
    "formattedArr = []\n",
    "\n",
    "# figure out offsets in data:\n",
    "offset = len(gdAddData) - len(gdPricedata)\n",
    "offsethr = len(gdHashRatedata) - len(gdPricedata)\n",
    "formattedAdressArr = gdAddData[offset:]\n",
    "formattedPriceArr = gdPricedata\n",
    "formattedHashRateArr = gdHashRatedata[offsethr:]\n",
    "\n",
    "# loop through data and add to dictionary\n",
    "for i in range(len(formattedAdressArr)):\n",
    "    formattedArr.append([formattedPriceArr[i][\"t\"], formattedAdressArr[i][\"v\"], formattedPriceArr[i][\"v\"], formattedHashRateArr[i][\"v\"]])     \n",
    "\n",
    "btcdate =  formattedArr[-1][0]\n",
    "formattedbtcdate =  datetime.fromtimestamp(btcdate).strftime('%Y-%m-%d')\n",
    "btcaddresses = formattedArr[-1][1]\n",
    "btcprice = formattedArr[-1][2]\n",
    "btchashrate = formattedArr[-1][3]\n",
    "\n",
    "startdate = datetime.fromtimestamp(formattedArr[0][0]).strftime('%Y-%m-%d')\n",
    "enddate = datetime.fromtimestamp(formattedArr[-1][0]).strftime('%Y-%m-%d')\n",
    "daysSinceCrreationNumber = len(total_days_add)\n"
   ]
  },
  {
   "cell_type": "markdown",
   "metadata": {},
   "source": [
    "# Power Law Model"
   ]
  },
  {
   "cell_type": "code",
   "execution_count": 205,
   "metadata": {},
   "outputs": [],
   "source": [
    "\n",
    "readable_time = datetime.fromtimestamp(btcdate).strftime('%Y-%m-%d')\n",
    "\n",
    "\n",
    "# second equation i found on twitter\n",
    "def powerlaw(thedays):\n",
    "    theans = (10 ** -17 ) * ( thedays ** 5.83 )\n",
    "    return theans\n",
    "\n",
    "def calculate_time():\n",
    "    \n",
    "    readable_year = datetime.fromtimestamp(btcdate).strftime('%Y')\n",
    "    readable_month = datetime.fromtimestamp(btcdate).strftime('%m')\n",
    "    readable_day = datetime.fromtimestamp(btcdate).strftime('%d')\n",
    "\n",
    "    year = int(readable_year)\n",
    "    month = int(readable_month)\n",
    "    day = int(readable_day)\n",
    "\n",
    "    start_date = datetime(2009, 1, 3)\n",
    "    end_date = datetime(year, month, day)\n",
    "\n",
    "    # Calculate the difference in days\n",
    "    difference_in_days = (end_date - start_date).days\n",
    "\n",
    "    \n",
    "    # Calculate the number of seconds\n",
    "    seconds_in_a_day = 24 * 60 * 60\n",
    "    # seconds_in_a_day = 1\n",
    "    total_seconds = (difference_in_days ) * seconds_in_a_day\n",
    "    return total_seconds\n",
    "\n",
    "total_seconds = calculate_time()\n",
    "\n",
    "# formatting.....\n",
    "def formatAnswer(result):\n",
    "    strans = ''\n",
    "    losres = math.log10(result) \n",
    "    strresult = str(losres)\n",
    "    for i in range(0, 6):            \n",
    "        strans += strresult[i]\n",
    "    return strans.replace('.', ',')\n",
    "def formatAddressNumber(current_addresses_total):\n",
    "    straddresses = str(current_addresses_total)\n",
    "    newstr = ''\n",
    "    count = 0\n",
    "    for num in reversed(straddresses):\n",
    "        if count == 3:\n",
    "            newstr += ','\n",
    "            count = 0\n",
    "        newstr += num\n",
    "        count += 1\n",
    "    formatedaddresses = newstr\n",
    "    return formatedaddresses[::-1]\n",
    "def formatHashRate(current_btchashrate):\n",
    "    strhashrate = str(current_btchashrate)\n",
    "    newstr = ''\n",
    "    count = 0\n",
    "    for num in strhashrate:\n",
    "        if count == 3:\n",
    "            newstr += ','\n",
    "            count = 0\n",
    "        newstr += num\n",
    "        count += 1\n",
    "    formattedhashrate = newstr\n",
    "    return formattedhashrate[::1]\n",
    "\n",
    "ans = powerlaw(daysSinceCrreationNumber)\n",
    "addresses = formatAddressNumber(btcaddresses)\n",
    "hashrate = formatHashRate(btchashrate)\n"
   ]
  },
  {
   "cell_type": "markdown",
   "metadata": {},
   "source": [
    "# Outputs"
   ]
  },
  {
   "cell_type": "code",
   "execution_count": 206,
   "metadata": {},
   "outputs": [
    {
     "name": "stdout",
     "output_type": "stream",
     "text": [
      "Power Law Stuff: \n",
      "\n",
      "Bitcoin Price Prediction: 67205.15922230436\n",
      "---------------------------------| \n",
      "\n",
      "Total Bitcoin Addresses: 1,269,909,209\n",
      "Bitcoin Hashrate: 558,124,196,356,609,000,000 Hs\n",
      "Days since creation: 5546\n",
      "Years since creation: 15.194520547945206\n",
      "Latest Day: 2024-04-09\n",
      "Bitcoin Actual Close Price: 70514.28371120086\n"
     ]
    }
   ],
   "source": [
    "print(\"Power Law Stuff:\", '\\n')\n",
    "\n",
    "print(\"Bitcoin Price Prediction:\", ans)\n",
    "print(\"---------------------------------|\", '\\n')\n",
    "\n",
    "print(\"Total Bitcoin Addresses:\", addresses)\n",
    "print(\"Bitcoin Hashrate:\", hashrate, \"Hs\")\n",
    "# im using total_day_add because this data goes back the furthest\n",
    "print(\"Days since creation:\", daysSinceCrreationNumber)\n",
    "print(\"Years since creation:\", daysSinceCrreationNumber / 365)\n",
    "print(\"Latest Day:\", readable_time)\n",
    "print(\"Bitcoin Actual Close Price:\", btcprice)\n",
    "# print(\"Second Equation Prediciton:\", second_try_predicted_prices)\n"
   ]
  },
  {
   "cell_type": "markdown",
   "metadata": {},
   "source": [
    "options stuff"
   ]
  },
  {
   "cell_type": "code",
   "execution_count": 207,
   "metadata": {},
   "outputs": [
    {
     "name": "stdout",
     "output_type": "stream",
     "text": [
      "79204.25575138755\n",
      "0.10971597369039676 by: 2024-10-10\n"
     ]
    }
   ],
   "source": [
    "oneday = 100000\n",
    "inthefuture = (317 / 2)\n",
    "optiondate = daysSinceCrreationNumber + inthefuture\n",
    "futredate = formattedArr[-1][0] + (oneday * inthefuture)\n",
    "ans = powerlaw(optiondate)\n",
    "print(ans)\n",
    "pch = 1.00 - (btcprice / ans)\n",
    "\n",
    "formattedpchDate = datetime.fromtimestamp(futredate).strftime('%Y-%m-%d')\n",
    "print(pch, \"by:\", formattedpchDate)"
   ]
  },
  {
   "cell_type": "markdown",
   "metadata": {},
   "source": [
    "# Linear Regression Stuff"
   ]
  },
  {
   "cell_type": "code",
   "execution_count": 208,
   "metadata": {},
   "outputs": [],
   "source": [
    "import sys\n",
    "import scipy\n",
    "import numpy as np\n",
    "import matplotlib\n",
    "import matplotlib.pyplot as plt\n",
    "import pandas\n",
    "import pandas_datareader as pdr\n",
    "import sklearn\n",
    "from pandas import read_csv\n",
    "from pandas.plotting import scatter_matrix\n",
    "from sklearn.model_selection import train_test_split\n",
    "from sklearn.model_selection import cross_val_score\n",
    "from sklearn.model_selection import StratifiedKFold\n",
    "from sklearn.metrics import classification_report\n",
    "from sklearn.metrics import confusion_matrix\n",
    "from sklearn.metrics import accuracy_score\n",
    "from sklearn.linear_model import LinearRegression\n",
    "from sklearn.linear_model import LogisticRegression\n",
    "from sklearn.tree import DecisionTreeClassifier\n",
    "from sklearn.neighbors import KNeighborsClassifier\n",
    "from sklearn.discriminant_analysis import LinearDiscriminantAnalysis\n",
    "from sklearn.naive_bayes import GaussianNB\n",
    "from sklearn.svm import SVC\n",
    "import seaborn as sb\n"
   ]
  },
  {
   "cell_type": "markdown",
   "metadata": {},
   "source": [
    "Prep the data"
   ]
  },
  {
   "cell_type": "code",
   "execution_count": 209,
   "metadata": {},
   "outputs": [],
   "source": [
    "mlDaysArray = []\n",
    "mlNumofAddressesArray = []\n",
    "mlPriceArray = []\n",
    "\n",
    "for i in range(len(formattedArr)):\n",
    "    mlDaysArray.append(formattedArr[i][0])\n",
    "    mlNumofAddressesArray.append(formattedArr[i][1])\n",
    "    mlPriceArray.append(formattedArr[i][2])\n",
    "\n",
    "def saveToCsv(filename):\n",
    "    with open(filename, 'w', newline='') as csvfile:\n",
    "        writer = csv.writer(csvfile)\n",
    "        writer.writerow(['Day', 'NumberOfAddresses', 'Price'])  # Write header row\n",
    "        for day, num_addresses, price in zip(mlDaysArray, mlNumofAddressesArray, mlPriceArray):\n",
    "            writer.writerow([day, num_addresses, price])\n",
    "\n",
    "saveToCsv(\"BtcData\")\n"
   ]
  },
  {
   "cell_type": "markdown",
   "metadata": {},
   "source": [
    "Start plot data"
   ]
  },
  {
   "cell_type": "code",
   "execution_count": 210,
   "metadata": {},
   "outputs": [
    {
     "data": {
      "text/html": [
       "<div>\n",
       "<style scoped>\n",
       "    .dataframe tbody tr th:only-of-type {\n",
       "        vertical-align: middle;\n",
       "    }\n",
       "\n",
       "    .dataframe tbody tr th {\n",
       "        vertical-align: top;\n",
       "    }\n",
       "\n",
       "    .dataframe thead th {\n",
       "        text-align: right;\n",
       "    }\n",
       "</style>\n",
       "<table border=\"1\" class=\"dataframe\">\n",
       "  <thead>\n",
       "    <tr style=\"text-align: right;\">\n",
       "      <th></th>\n",
       "      <th>Day</th>\n",
       "      <th>NumberOfAddresses</th>\n",
       "      <th>Price</th>\n",
       "    </tr>\n",
       "  </thead>\n",
       "  <tbody>\n",
       "    <tr>\n",
       "      <th>5012</th>\n",
       "      <td>1712361600</td>\n",
       "      <td>1268190122</td>\n",
       "      <td>68960.285355</td>\n",
       "    </tr>\n",
       "    <tr>\n",
       "      <th>5013</th>\n",
       "      <td>1712448000</td>\n",
       "      <td>1268647253</td>\n",
       "      <td>69374.900421</td>\n",
       "    </tr>\n",
       "    <tr>\n",
       "      <th>5014</th>\n",
       "      <td>1712534400</td>\n",
       "      <td>1269100201</td>\n",
       "      <td>71634.154230</td>\n",
       "    </tr>\n",
       "    <tr>\n",
       "      <th>5015</th>\n",
       "      <td>1712620800</td>\n",
       "      <td>1269503574</td>\n",
       "      <td>69148.722511</td>\n",
       "    </tr>\n",
       "    <tr>\n",
       "      <th>5016</th>\n",
       "      <td>1712707200</td>\n",
       "      <td>1269909209</td>\n",
       "      <td>70514.283711</td>\n",
       "    </tr>\n",
       "  </tbody>\n",
       "</table>\n",
       "</div>"
      ],
      "text/plain": [
       "             Day  NumberOfAddresses         Price\n",
       "5012  1712361600         1268190122  68960.285355\n",
       "5013  1712448000         1268647253  69374.900421\n",
       "5014  1712534400         1269100201  71634.154230\n",
       "5015  1712620800         1269503574  69148.722511\n",
       "5016  1712707200         1269909209  70514.283711"
      ]
     },
     "execution_count": 210,
     "metadata": {},
     "output_type": "execute_result"
    }
   ],
   "source": [
    "data = read_csv(\"BtcData\")\n",
    "regdata = pandas.DataFrame(data, columns=[\"Day\", \"NumberOfAddresses\", \"Price\"])\n",
    "logdata = (np.log(data).diff()).dropna()\n",
    "regdata.tail()"
   ]
  },
  {
   "cell_type": "code",
   "execution_count": 211,
   "metadata": {},
   "outputs": [
    {
     "data": {
      "text/plain": [
       "array([ 3.37472292e-05, -2.33439799e+03])"
      ]
     },
     "execution_count": 211,
     "metadata": {},
     "output_type": "execute_result"
    }
   ],
   "source": [
    "# get slope and intercept\n",
    "'''\n",
    "In this case, it suggests that for each additional \n",
    "unit increase in NumberOfAddresses, the Price \n",
    "increases by approximately 3.33e-05 (or 0.0000333).'''\n",
    "reg = np.polyfit(x=regdata[\"NumberOfAddresses\"], y=regdata[\"Price\"], deg=1)\n",
    "reg"
   ]
  },
  {
   "cell_type": "code",
   "execution_count": 212,
   "metadata": {},
   "outputs": [
    {
     "data": {
      "text/plain": [
       "[<matplotlib.lines.Line2D at 0x1bcd7659c90>]"
      ]
     },
     "execution_count": 212,
     "metadata": {},
     "output_type": "execute_result"
    },
    {
     "data": {
      "image/png": "[encoded data removed]",
      "text/plain": [
       "<Figure size 640x480 with 1 Axes>"
      ]
     },
     "metadata": {},
     "output_type": "display_data"
    }
   ],
   "source": [
    "trend = np.polyval(reg, regdata[\"NumberOfAddresses\"])\n",
    "std = regdata[\"Price\"].std()\n",
    "# Red line. NumberOf Addresses is X, Price is Y\n",
    "plt.plot(regdata[\"Day\"], regdata[\"Price\"], 'r')\n",
    "# Blue line. Trend of number of addresses to the price.\n",
    "plt.plot(regdata[\"Day\"], trend, 'b')\n",
    "# Yellow line. Shifting down this trend to get a good midpoint buying range.\n",
    "plt.plot(regdata[\"Day\"], trend - (std / 2), 'y')\n",
    "# Green line. Shifting down this trend to get a good buying range\n",
    "plt.plot(regdata[\"Day\"], trend - std, 'g')"
   ]
  }
 ],
 "metadata": {
  "kernelspec": {
   "display_name": "base",
   "language": "python",
   "name": "python3"
  },
  "language_info": {
   "codemirror_mode": {
    "name": "ipython",
    "version": 3
   },
   "file_extension": ".py",
   "mimetype": "text/x-python",
   "name": "python",
   "nbconvert_exporter": "python",
   "pygments_lexer": "ipython3",
   "version": "3.11.5"
  }
 },
 "nbformat": 4,
 "nbformat_minor": 2
}
