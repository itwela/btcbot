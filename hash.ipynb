{
 "cells": [
  {
   "cell_type": "code",
   "execution_count": 37,
   "metadata": {},
   "outputs": [
    {
     "name": "stdout",
     "output_type": "stream",
     "text": [
      "Input with 1 leading zero: 426479724\n"
     ]
    }
   ],
   "source": [
    "import hashlib\n",
    "\n",
    "def find_input_with_zeros(num_zeros):\n",
    "    prefix = '0' * num_zeros\n",
    "    nonce = 0\n",
    "    while True:\n",
    "        nonce_str = str(nonce)\n",
    "        input_str = nonce_str\n",
    "        hash_value = hashlib.sha256(input_str.encode()).hexdigest()\n",
    "        if hash_value.startswith(prefix):\n",
    "            return input_str\n",
    "        nonce += 1\n",
    "\n",
    "input_with_zeros = find_input_with_zeros(8)\n",
    "print(\"Input with 1 leading zero:\", input_with_zeros)\n",
    "\n"
   ]
  },
  {
   "cell_type": "code",
   "execution_count": 39,
   "metadata": {},
   "outputs": [
    {
     "data": {
      "text/plain": [
       "(39, 286, 886, 88484, 596138, 665782)"
      ]
     },
     "execution_count": 39,
     "metadata": {},
     "output_type": "execute_result"
    }
   ],
   "source": [
    "39, 286, 886, 88484, 596138, 665782, 426479724"
   ]
  }
 ],
 "metadata": {
  "kernelspec": {
   "display_name": "base",
   "language": "python",
   "name": "python3"
  },
  "language_info": {
   "codemirror_mode": {
    "name": "ipython",
    "version": 3
   },
   "file_extension": ".py",
   "mimetype": "text/x-python",
   "name": "python",
   "nbconvert_exporter": "python",
   "pygments_lexer": "ipython3",
   "version": "3.11.5"
  }
 },
 "nbformat": 4,
 "nbformat_minor": 2
}
